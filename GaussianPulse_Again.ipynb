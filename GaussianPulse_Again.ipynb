{
 "cells": [
  {
   "cell_type": "code",
   "execution_count": 1,
   "metadata": {},
   "outputs": [],
   "source": [
    "import numpy as np\n",
    "\n",
    "from scipy.stats import poisson\n",
    "\n",
    "import matplotlib.pyplot as plt\n",
    "\n",
    "from dynesty import NestedSampler\n"
   ]
  },
  {
   "cell_type": "markdown",
   "metadata": {},
   "source": [
    "# See Example 5.3 in the notes"
   ]
  },
  {
   "cell_type": "code",
   "execution_count": 2,
   "metadata": {},
   "outputs": [
    {
     "data": {
      "image/png": "[encoded data removed]",
      "text/plain": [
       "<Figure size 432x288 with 1 Axes>"
      ]
     },
     "metadata": {
      "needs_background": "light"
     },
     "output_type": "display_data"
    }
   ],
   "source": [
    "# load data\n",
    "d=np.loadtxt(\"GaussianPulseSpectralData.dat\")\n",
    "\n",
    "freqs, data = d[:,0], d[:,1]\n",
    "\n",
    "plt.plot(freqs, data, 'b+')\n",
    "plt.xlabel(r'$(f-f0)/w$')\n",
    "plt.ylabel(r'count')\n",
    "\n",
    "plt.show()"
   ]
  },
  {
   "cell_type": "markdown",
   "metadata": {},
   "source": [
    "# The two models\n",
    "\n",
    "The \"null hypothesis\" is that there is no source present, only a background.\n",
    "\n",
    "The \"signal hypothesis\" is that there is a Gaussian pulse in the data."
   ]
  },
  {
   "cell_type": "code",
   "execution_count": 3,
   "metadata": {},
   "outputs": [],
   "source": [
    "def model_A(f, B):\n",
    "    return B\n",
    "\n",
    "def model_B(f, A, B, f0=0, w=1):\n",
    "    return A*np.exp(-0.5*((f-f0)/w)**2) + B"
   ]
  },
  {
   "cell_type": "markdown",
   "metadata": {},
   "source": [
    "# Model A"
   ]
  },
  {
   "cell_type": "code",
   "execution_count": 4,
   "metadata": {},
   "outputs": [],
   "source": [
    "def log_likelihood_A(B, f=freqs, d=data):\n",
    "    m = model_A(f, B)\n",
    "    return np.sum(poisson(m).logpmf(d))\n"
   ]
  },
  {
   "cell_type": "code",
   "execution_count": 5,
   "metadata": {},
   "outputs": [
    {
     "name": "stderr",
     "output_type": "stream",
     "text": [
      "5189it [00:56, 91.18it/s, +1024 | bound: 9 | nc: 1 | ncall: 74091 | eff(%):  8.386 | loglstar:   -inf < -2870.070 <    inf | logz: -2872.782 +/-  0.061 | dlogz:  0.000 >  0.100]\n"
     ]
    }
   ],
   "source": [
    "ndim = 1\n",
    "\n",
    "def prior_transform_A(u):\n",
    "    \"\"\"Transforms the uniform random variable `u ~ Unif[0., 1.)`\n",
    "    to the parameters of interest:\n",
    "    B = Unif[8,12)\"\"\"\n",
    "\n",
    "    x = 4. * u + 8.  # scale and shift \n",
    "    \n",
    "    return x\n",
    "\n",
    "def log_likelihood_wrapperA(x):\n",
    "    return log_likelihood_A(x[0])\n",
    "\n",
    "samplerA = NestedSampler(log_likelihood_wrapperA, prior_transform_A, ndim, \n",
    "                        nlive=1024, bound='multi', sample='slice')\n",
    "\n",
    "samplerA.run_nested(dlogz=0.1)\n",
    "\n"
   ]
  },
  {
   "cell_type": "code",
   "execution_count": 6,
   "metadata": {},
   "outputs": [
    {
     "name": "stdout",
     "output_type": "stream",
     "text": [
      "log-evidence log(Z_A) = -2872.7822676704895\n"
     ]
    }
   ],
   "source": [
    "logZ_A = samplerA.results.logz[-1]\n",
    "print(\"log-evidence log(Z_A) =\", logZ_A)"
   ]
  },
  {
   "cell_type": "markdown",
   "metadata": {},
   "source": [
    "# Model B"
   ]
  },
  {
   "cell_type": "code",
   "execution_count": 7,
   "metadata": {},
   "outputs": [],
   "source": [
    "def log_likelihood_B(A, B, f0=0, w=1, f=freqs, d=data):\n",
    "    m = model_B(f, A, B, f0=f0, w=w)\n",
    "    return np.sum(poisson(m).logpmf(d))\n"
   ]
  },
  {
   "cell_type": "code",
   "execution_count": 8,
   "metadata": {},
   "outputs": [
    {
     "name": "stderr",
     "output_type": "stream",
     "text": [
      "6530it [02:16, 47.91it/s, +1024 | bound: 15 | nc: 1 | ncall: 174204 | eff(%):  4.336 | loglstar:   -inf < -2614.517 <    inf | logz: -2618.543 +/-  0.077 | dlogz:  0.000 >  0.100]\n"
     ]
    }
   ],
   "source": [
    "ndim = 2\n",
    "\n",
    "def prior_transform_B(u):\n",
    "    \"\"\"Transforms the uniform random variable `u ~ Unif[0., 1.)`\n",
    "    to the parameters of interest:\n",
    "    A = Unif[8,12)]\n",
    "    B = Unif[8,12)\"\"\"\n",
    "\n",
    "    x = 4. * u + 8.  # scale and shift \n",
    "    \n",
    "    return x\n",
    "\n",
    "def log_likelihood_wrapperB(x):\n",
    "    return log_likelihood_B(x[0], x[1])\n",
    "\n",
    "samplerB = NestedSampler(log_likelihood_wrapperB, prior_transform_B, ndim, \n",
    "                        nlive=1024, bound='multi', sample='slice')\n",
    "\n",
    "samplerB.run_nested(dlogz=0.1)\n",
    "\n"
   ]
  },
  {
   "cell_type": "code",
   "execution_count": 11,
   "metadata": {},
   "outputs": [
    {
     "name": "stdout",
     "output_type": "stream",
     "text": [
      "log-evidence log(Z_B) = -2618.5427296222174\n"
     ]
    }
   ],
   "source": [
    "logZ_B = samplerB.results.logz[-1]\n",
    "print(\"log-evidence log(Z_B) =\", logZ_B)"
   ]
  },
  {
   "cell_type": "markdown",
   "metadata": {},
   "source": [
    "# Posterior Odds Ratio\n",
    "Let us assume equal prior odds; i.e. P(A)=P(B)=1/2."
   ]
  },
  {
   "cell_type": "code",
   "execution_count": 13,
   "metadata": {},
   "outputs": [
    {
     "name": "stdout",
     "output_type": "stream",
     "text": [
      "log(O_{A,B}) = -254.23953804827215\n"
     ]
    }
   ],
   "source": [
    "# Odds ratio O_{A,B}\n",
    "logO_AB = logZ_A-logZ_B\n",
    "print(\"log(O_{A,B}) =\", logO_AB)"
   ]
  },
  {
   "cell_type": "markdown",
   "metadata": {},
   "source": [
    "As this is strongly negative, there is clear evidence in favour of model B (which is obviously true just from looking at the data)."
   ]
  },
  {
   "cell_type": "code",
   "execution_count": null,
   "metadata": {},
   "outputs": [],
   "source": []
  }
 ],
 "metadata": {
  "kernelspec": {
   "display_name": "Python 3",
   "language": "python",
   "name": "python3"
  },
  "language_info": {
   "codemirror_mode": {
    "name": "ipython",
    "version": 3
   },
   "file_extension": ".py",
   "mimetype": "text/x-python",
   "name": "python",
   "nbconvert_exporter": "python",
   "pygments_lexer": "ipython3",
   "version": "3.9.1"
  }
 },
 "nbformat": 4,
 "nbformat_minor": 2
}
