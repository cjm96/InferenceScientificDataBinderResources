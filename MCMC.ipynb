{
 "cells": [
  {
   "cell_type": "code",
   "execution_count": null,
   "metadata": {},
   "outputs": [],
   "source": [
    "import numpy as np\n",
    "\n",
    "from scipy.stats import multivariate_normal\n",
    "\n",
    "import matplotlib.pyplot as plt\n"
   ]
  },
  {
   "cell_type": "markdown",
   "metadata": {},
   "source": [
    "The probability distribution we wish to draw samples from.\n",
    "\n",
    "$$ P(x, y) \\propto \\exp\\left( \\frac{-\\left(\\sqrt{x^2+y^2}-r_0\\right)^2}{2}\\right)  $$"
   ]
  },
  {
   "cell_type": "code",
   "execution_count": null,
   "metadata": {},
   "outputs": [],
   "source": [
    "def P(x, r0=5, w=1):\n",
    "    \"\"\"\n",
    "    Target distribution, a ring/annulus in the 2D plane\n",
    "    \n",
    "    INPUTS\n",
    "    ------\n",
    "    r0, w: floats\n",
    "        parameters of the distribution, the ring radius and thickness\n",
    "    \n",
    "    RETURNS\n",
    "    -------\n",
    "    Px: float\n",
    "        the value of the PDF, P(x)\n",
    "    \"\"\"\n",
    "    r = np.sqrt(x[0]**2+x[1]**2)\n",
    "    return np.exp(-0.5*((r-r0)/w)**2)\n"
   ]
  },
  {
   "cell_type": "code",
   "execution_count": null,
   "metadata": {},
   "outputs": [],
   "source": [
    "def Q(x, cov=np.identity(2)):\n",
    "    \"\"\"\n",
    "    Proposal distribution, a 2D Gaussian centred on the current point\n",
    "    \n",
    "    INPUTS\n",
    "    ------\n",
    "    x: array\n",
    "        the current point\n",
    "    \n",
    "    RETURNS\n",
    "    -------\n",
    "    X: array\n",
    "        proposed point\n",
    "    \"\"\"\n",
    "    X = multivariate_normal(x, cov).rvs()\n",
    "    return X\n"
   ]
  },
  {
   "cell_type": "markdown",
   "metadata": {},
   "source": [
    "# A simple implementation of the Metropolis-Hastings MCMC algorithm"
   ]
  },
  {
   "cell_type": "code",
   "execution_count": null,
   "metadata": {},
   "outputs": [],
   "source": [
    "# Initial starting point\n",
    "x0 = np.array([0, 0])\n",
    "\n",
    "# Create a chain of the points we have visited\n",
    "chain = [x0]\n",
    "\n",
    "# Number of iterations (or steps) to take\n",
    "num_iterations = 5000\n",
    "\n",
    "# iterate the algorithm\n",
    "for i in range(num_iterations):\n",
    "    \n",
    "    # current point is last point in the chain\n",
    "    x = chain[-1]\n",
    "    \n",
    "    # proposed point\n",
    "    y = Q(x)\n",
    "    \n",
    "    # acceptance ratio\n",
    "    alpha = P(y)/P(x)\n",
    "    \n",
    "    # random number determines acceptance\n",
    "    u = np.random.uniform()\n",
    "    \n",
    "    if u<alpha: # accept the proposed point\n",
    "        x_new = y\n",
    "    else: # reject the proposed poont\n",
    "        x_new = x\n",
    "        \n",
    "    # append new point to the chain\n",
    "    chain.append(x_new)"
   ]
  },
  {
   "cell_type": "markdown",
   "metadata": {},
   "source": [
    "Let's plot the first few points in the MCMC chain."
   ]
  },
  {
   "cell_type": "code",
   "execution_count": null,
   "metadata": {},
   "outputs": [],
   "source": [
    "samples = np.array(chain)[0:100,:]\n",
    "\n",
    "ax = plt.gca()\n",
    "ax.set_aspect(1.)\n",
    "\n",
    "ax.plot(samples[:,0], samples[:,1])\n",
    "\n",
    "ax.set_xlim(-7,7)\n",
    "ax.set_ylim(-7,7)\n",
    "\n",
    "ax.set_xlabel(r\"$x$\")\n",
    "ax.set_ylabel(r\"$y$\")\n",
    "\n",
    "ax.set_aspect(1)\n",
    "\n",
    "plt.show()"
   ]
  },
  {
   "cell_type": "markdown",
   "metadata": {},
   "source": [
    "Let's plot a histogram of chain (with a burnin portion removed and with thinning).|"
   ]
  },
  {
   "cell_type": "code",
   "execution_count": null,
   "metadata": {},
   "outputs": [],
   "source": [
    "import corner \n",
    "\n",
    "samples = np.array(chain)\n",
    "\n",
    "# remove a burnin portion of the chain and thin the rest of the chain\n",
    "burnin = 100\n",
    "thin = 10\n",
    "thin_samples = samples[burnin::thin]\n",
    "\n",
    "# plot histogram\n",
    "corner.corner(samples, labels=[r'$x$', r'$y$'])\n",
    "\n",
    "plt.show()"
   ]
  },
  {
   "cell_type": "markdown",
   "metadata": {},
   "source": [
    "### Try rerunning the above with (i) more iterations (ii) different amounts of burnin and thinning."
   ]
  },
  {
   "cell_type": "markdown",
   "metadata": {},
   "source": [
    "# MCMC Sampling Using Emcee \n",
    "\n",
    "https://emcee.readthedocs.io/en/stable/"
   ]
  },
  {
   "cell_type": "code",
   "execution_count": null,
   "metadata": {},
   "outputs": [],
   "source": [
    "import emcee\n",
    "\n",
    "ndim = 2 # our problem is 2 dimensional\n",
    "nwalkers = 10 # instead of a single chain this algorithm uses several\n",
    "\n",
    "x0 = np.random.randn(nwalkers, ndim) # choose random starting points \n",
    "\n",
    "# most sampling algorithms take the log of the PDF as input\n",
    "def log_P(x):\n",
    "    return np.log(P(x))\n",
    "\n",
    "sampler = emcee.EnsembleSampler(nwalkers, ndim, log_P) # setup the sampler\n",
    "\n",
    "state = sampler.run_mcmc(x0, 100) # run 100 burn in iterations\n",
    "\n",
    "sampler.reset() \n",
    "\n",
    "sampler.run_mcmc(state, 5000) # run algorithm for 10000 iterations\n",
    "\n",
    "samples = sampler.get_chain(flat=True, thin=20) # get the thinned mcmc chain\n",
    "\n",
    "corner.corner(samples, labels=[r'$x$', r'$y$'])\n",
    "\n",
    "plt.show()"
   ]
  },
  {
   "cell_type": "markdown",
   "metadata": {},
   "source": [
    "# Nested Sampling Using Dynesty\n",
    "\n"
   ]
  },
  {
   "cell_type": "code",
   "execution_count": null,
   "metadata": {},
   "outputs": [],
   "source": [
    "ndim = 2\n",
    "\n",
    "def prior_transform(u):\n",
    "    \"\"\"Transforms the uniform random variable `u ~ Unif[0., 1.)`\n",
    "    to the parameter of interest `x ~ Unif[-10., 10.)`.\"\"\"\n",
    "\n",
    "    x = 2. * u - 1.  # scale and shift to [-1., 1.)\n",
    "    x *= 10.  # scale to [-10., 10.)\n",
    "\n",
    "    return x\n",
    "\n",
    "def log_likelihood(x):\n",
    "    r0, w = 5., 1.\n",
    "    r = np.sqrt(x[0]**2+x[1]**2)\n",
    "    return -0.5*((r-r0)/w)**2\n",
    "\n",
    "from dynesty import NestedSampler\n",
    "\n",
    "sampler = NestedSampler(log_likelihood, prior_transform, ndim, nlive=1024, bound='multi', sample='slice')\n",
    "\n",
    "sampler.run_nested(dlogz=0.01)"
   ]
  },
  {
   "cell_type": "code",
   "execution_count": null,
   "metadata": {},
   "outputs": [],
   "source": [
    "corner.corner(sampler.results.samples, labels=['x', 'y'])\n",
    "plt.show()"
   ]
  }
 ],
 "metadata": {
  "kernelspec": {
   "display_name": "Python 3",
   "language": "python",
   "name": "python3"
  },
  "language_info": {
   "codemirror_mode": {
    "name": "ipython",
    "version": 3
   },
   "file_extension": ".py",
   "mimetype": "text/x-python",
   "name": "python",
   "nbconvert_exporter": "python",
   "pygments_lexer": "ipython3",
   "version": "3.9.1"
  }
 },
 "nbformat": 4,
 "nbformat_minor": 2
}
