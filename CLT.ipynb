{
 "cells": [
  {
   "cell_type": "code",
   "execution_count": 1,
   "id": "protecting-services",
   "metadata": {},
   "outputs": [],
   "source": [
    "import numpy as np\n",
    "\n",
    "import scipy.stats as sp\n",
    "\n",
    "import matplotlib.pyplot as plt"
   ]
  },
  {
   "cell_type": "markdown",
   "id": "functional-accounting",
   "metadata": {},
   "source": [
    "Let $\\lambda_i = i/100$ for $i=1,2,\\ldots,n$.\n",
    "Now let the random variables $x_i \\sim \\mathrm{Poisson}(\\lambda_i)$ be drawn from Poisson distributions with rate parameters $\\lambda_i$. Finally, let the random variable $z=\\frac{1}{n}\\sum_{i=0}^{n-1}x_i$."
   ]
  },
  {
   "cell_type": "code",
   "execution_count": 2,
   "id": "indie-standard",
   "metadata": {
    "code_snippet_clt1": true
   },
   "outputs": [],
   "source": [
    "n, trials = 100, 10000\n",
    "\n",
    "lambdas = np.arange(n)/n\n",
    "\n",
    "x = np.array([sp.poisson(l).rvs(size=trials) for l in lambdas])\n",
    "\n",
    "z = np.sum(x, axis=0)/n"
   ]
  },
  {
   "cell_type": "markdown",
   "id": "premium-resolution",
   "metadata": {},
   "source": [
    "The Central Limit Theorem states that $z\\sim\\mathcal{N}(\\mu=\\frac{1}{n}\\sum_{i}\\lambda_i, \\sigma^2=\\frac{1}{n^2}\\sum_{i}\\lambda_i)$ as $n\\rightarrow\\infty$. (Here we have used the fact that the mean and variance of a Poisson distribution are both equal to the rate parameter $\\lambda$.)\n",
    "\n",
    "Let's check this for $n=100$ by examining the distribution of $10^4$ trail realisations of $z$."
   ]
  },
  {
   "cell_type": "code",
   "execution_count": 4,
   "id": "physical-shower",
   "metadata": {},
   "outputs": [
    {
     "data": {
      "image/png": "[encoded data removed]",
      "text/plain": [
       "<Figure size 432x288 with 1 Axes>"
      ]
     },
     "metadata": {
      "needs_background": "light"
     },
     "output_type": "display_data"
    }
   ],
   "source": [
    "plt.hist(z, bins=20, density=True)\n",
    "\n",
    "mu, sigmasq = np.sum(lambdas)/n, np.sqrt(np.sum(lambdas)/n**2)\n",
    "CLTdist = sp.norm(mu, sigmasq)\n",
    "\n",
    "x = np.linspace(0, 1, 100)\n",
    "plt.plot(x, CLTdist.pdf(x))\n",
    "\n",
    "plt.xlim(0,1)\n",
    "\n",
    "plt.xlabel(\"z\")\n",
    "plt.ylabel(\"P(z)\")\n",
    "\n",
    "plt.show()"
   ]
  },
  {
   "cell_type": "code",
   "execution_count": null,
   "id": "spanish-accessory",
   "metadata": {},
   "outputs": [],
   "source": []
  }
 ],
 "metadata": {
  "kernelspec": {
   "display_name": "Python 3",
   "language": "python",
   "name": "python3"
  },
  "language_info": {
   "codemirror_mode": {
    "name": "ipython",
    "version": 3
   },
   "file_extension": ".py",
   "mimetype": "text/x-python",
   "name": "python",
   "nbconvert_exporter": "python",
   "pygments_lexer": "ipython3",
   "version": "3.9.1"
  }
 },
 "nbformat": 4,
 "nbformat_minor": 5
}
