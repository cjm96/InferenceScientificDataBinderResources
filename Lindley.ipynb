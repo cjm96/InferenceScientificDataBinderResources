{
 "cells": [
  {
   "cell_type": "code",
   "execution_count": 1,
   "id": "remarkable-senate",
   "metadata": {},
   "outputs": [],
   "source": [
    "import numpy as np\n",
    "\n",
    "from scipy import stats as stats\n",
    "from scipy.integrate import quad"
   ]
  },
  {
   "cell_type": "markdown",
   "id": "generic-evans",
   "metadata": {},
   "source": [
    "# A Fair Coin?\n",
    "\n",
    "We flip a coin 150 time and record 64 heads and 86 tails. Is this coin fair?"
   ]
  },
  {
   "cell_type": "markdown",
   "id": "senior-thousand",
   "metadata": {},
   "source": [
    "## Frequentist Hypothesis Test\n",
    "\n",
    "The null hypothesis, $H_0$ = \"the coin is fair\".\n",
    "\n",
    "Our statistic is the value \"64 heads from 150 trials\". \n",
    "\n",
    "Compute a $P$-value; the probability of getting a value at least this extreme assuming the null hypothesis."
   ]
  },
  {
   "cell_type": "code",
   "execution_count": 2,
   "id": "floral-contents",
   "metadata": {},
   "outputs": [
    {
     "name": "stdout",
     "output_type": "stream",
     "text": [
      "P = 0.04303555159299069  < 5%\n"
     ]
    }
   ],
   "source": [
    "dist = stats.binom(n=150, p=0.5)\n",
    "\n",
    "P = np.sum(dist.pmf(np.arange(0, 65)))\n",
    "\n",
    "print(\"P =\", P, \" < 5%\")"
   ]
  },
  {
   "cell_type": "markdown",
   "id": "federal-franchise",
   "metadata": {},
   "source": [
    "We reject $H_0$ (at the 95% level) and accept instead the alternative hypothesis, $H_1$ = \"the coin is biased\"."
   ]
  },
  {
   "cell_type": "markdown",
   "id": "adult-uncertainty",
   "metadata": {},
   "source": [
    "## Bayesian Model Selection\n",
    "\n",
    "Model A: \"the coin is fair\".\n",
    "\n",
    "Compute the evidence for this model."
   ]
  },
  {
   "cell_type": "code",
   "execution_count": 3,
   "id": "retired-hypothetical",
   "metadata": {},
   "outputs": [],
   "source": [
    "dist = stats.binom(n=150, p=0.5)\n",
    "\n",
    "Z_A = dist.pmf(64)"
   ]
  },
  {
   "cell_type": "markdown",
   "id": "brilliant-label",
   "metadata": {},
   "source": [
    "Model B: \"the coin is biased, with probability $p$ of landing on heads\".\n",
    "\n",
    "Compute the evidence for this model (assuming a uniform prior on $p$ in the range 0 to 1)."
   ]
  },
  {
   "cell_type": "code",
   "execution_count": 4,
   "id": "golden-probe",
   "metadata": {},
   "outputs": [],
   "source": [
    "def likelihood(p):\n",
    "    dist = stats.binom(n=150, p=p)\n",
    "    return dist.pmf(64)\n",
    "\n",
    "Z_B = quad(likelihood, 0, 1)[0]"
   ]
  },
  {
   "cell_type": "markdown",
   "id": "educated-rainbow",
   "metadata": {},
   "source": [
    "Compute the posterior odds ratio (assuming an equal prior odds ratio)."
   ]
  },
  {
   "cell_type": "code",
   "execution_count": 5,
   "id": "modified-cherry",
   "metadata": {},
   "outputs": [
    {
     "name": "stdout",
     "output_type": "stream",
     "text": [
      "O_AB = 1.9663135053972502  > 1\n"
     ]
    }
   ],
   "source": [
    "O_AB = Z_A/Z_B\n",
    "\n",
    "print(\"O_AB =\", O_AB, \" > 1\")"
   ]
  },
  {
   "cell_type": "markdown",
   "id": "muslim-request",
   "metadata": {},
   "source": [
    "We favour model B (albeit only weakly)."
   ]
  },
  {
   "cell_type": "markdown",
   "id": "trying-feelings",
   "metadata": {},
   "source": [
    "# Lindley's Paradox\n",
    "\n",
    "The Bayesian and frequentist approaches seem to give contradictory answers in this situation."
   ]
  },
  {
   "cell_type": "code",
   "execution_count": null,
   "id": "undefined-final",
   "metadata": {},
   "outputs": [],
   "source": []
  }
 ],
 "metadata": {
  "kernelspec": {
   "display_name": "Python 3",
   "language": "python",
   "name": "python3"
  },
  "language_info": {
   "codemirror_mode": {
    "name": "ipython",
    "version": 3
   },
   "file_extension": ".py",
   "mimetype": "text/x-python",
   "name": "python",
   "nbconvert_exporter": "python",
   "pygments_lexer": "ipython3",
   "version": "3.9.1"
  }
 },
 "nbformat": 4,
 "nbformat_minor": 5
}
